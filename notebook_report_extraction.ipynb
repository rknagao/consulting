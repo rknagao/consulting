{
 "cells": [
  {
   "attachments": {},
   "cell_type": "markdown",
   "metadata": {},
   "source": [
    "# Notebook Report Extraction\n",
    "\n",
    "**Objective**: extract financial report 'Formulário de Referência' from public repository managed by Comissão de Valores Mobiliários (CVM), equivalent to Securities and Exchange Comission (SEC) in USA."
   ]
  },
  {
   "cell_type": "code",
   "execution_count": 1,
   "metadata": {},
   "outputs": [],
   "source": [
    "from selenium import webdriver\n",
    "from selenium.webdriver.common.action_chains import ActionChains\n",
    "from selenium.webdriver.common.by import By\n",
    "from selenium.webdriver.common.keys import Keys\n",
    "from selenium.webdriver.support.ui import WebDriverWait\n",
    "from selenium.webdriver.support import expected_conditions\n",
    "\n",
    "import os\n",
    "import pandas as pd\n",
    "from time import sleep"
   ]
  },
  {
   "cell_type": "code",
   "execution_count": 2,
   "metadata": {},
   "outputs": [
    {
     "name": "stdout",
     "output_type": "stream",
     "text": [
      "4.10.0\n"
     ]
    }
   ],
   "source": [
    "# Make sure the webdriver version matches your Google Chrome version.\n",
    "print(webdriver.__version__)"
   ]
  },
  {
   "cell_type": "code",
   "execution_count": 3,
   "metadata": {},
   "outputs": [],
   "source": [
    "# Initializing the browser.\n",
    "driver = webdriver.Chrome()\n",
    "\n",
    "# CVM url.\n",
    "link = 'https://www.rad.cvm.gov.br/ENET/frmConsultaExternaCVM.aspx'\n",
    "driver.get(link)\n",
    "assert driver.title == 'Consulta de Documentos de Companhias Abertas'"
   ]
  },
  {
   "cell_type": "code",
   "execution_count": 4,
   "metadata": {},
   "outputs": [],
   "source": [
    "# Filter by report type.\n",
    "text_box_documento = driver.find_element(By.ID, 'cboCategorias_chosen_input')\n",
    "driver.implicitly_wait(5)\n",
    "\n",
    "text_box_documento.send_keys('FRE - Formulário de Referência')\n",
    "#driver.implicitly_wait(5)\n",
    "text_box_documento.send_keys('\\ue007')\n",
    "driver.implicitly_wait(5)"
   ]
  },
  {
   "cell_type": "code",
   "execution_count": 5,
   "metadata": {},
   "outputs": [],
   "source": [
    "# Enable the data selection by pressing the button 'No período'.\n",
    "radio_button_periodo = driver.find_element(By.ID, 'rdPeriodo')\n",
    "radio_button_periodo.click()\n",
    "driver.implicitly_wait(5)\n",
    "\n",
    "# Input the starting date in string (DDMMYYYY).\n",
    "text_box_dt_inicio = driver.find_element(By.ID, 'txtDataIni')\n",
    "#driver.implicitly_wait(5)\n",
    "text_box_dt_inicio.send_keys('01012021')\n",
    "driver.implicitly_wait(5)\n",
    "\n",
    "# Input the ending date in string (DDMMYYYY).\n",
    "text_box_dt_inicio = driver.find_element(By.ID, 'txtDataFim')\n",
    "#driver.implicitly_wait(5)\n",
    "text_box_dt_inicio.send_keys('31012021')\n",
    "driver.implicitly_wait(5)"
   ]
  },
  {
   "cell_type": "code",
   "execution_count": 6,
   "metadata": {},
   "outputs": [],
   "source": [
    "# After all filters, execute the query.\n",
    "button_consulta = driver.find_element(By.ID, 'btnConsulta')\n",
    "button_consulta.click()\n",
    "driver.implicitly_wait(5)"
   ]
  },
  {
   "cell_type": "code",
   "execution_count": 7,
   "metadata": {},
   "outputs": [
    {
     "name": "stdout",
     "output_type": "stream",
     "text": [
      "PRESTIGE CONSUMER HEALTHCARE INC\n",
      "Comunicado ao Mercado\n",
      "03/08/2023\n",
      "03/08/2023 22:31\n"
     ]
    }
   ],
   "source": [
    "# The query results in a table with registry data and the report. For now we will focus on identifyng the registry data's position.\n",
    "registry_elements = driver.find_elements(By.CSS_SELECTOR, \"tr[role = 'row'] > td\")\n",
    "driver.implicitly_wait(5)\n",
    "\n",
    "# Data is organized by the schema below:\n",
    "# name: 1 + 11 * x\n",
    "list_id_name = [1 + 11 * x for x in range(100)]\n",
    "\n",
    "# report type: 2 + 11 * x\n",
    "list_id_type = [2 + 11 * x for x in range(100)]\n",
    "\n",
    "# year: 5 + 11 * x\n",
    "list_id_year = [5 + 11 * x for x in range(100)]\n",
    "\n",
    "# publication date: 6 + 11 * x\n",
    "list_id_publ = [6 + 11 * x for x in range(100)]\n",
    "\n",
    "print(registry_elements[list_id_name[0]].text)\n",
    "print(registry_elements[list_id_type[0]].text)\n",
    "print(registry_elements[list_id_year[0]].text)\n",
    "print(registry_elements[list_id_publ[0]].text)"
   ]
  },
  {
   "cell_type": "code",
   "execution_count": 8,
   "metadata": {},
   "outputs": [],
   "source": [
    "#!!! Por algum motivo os filtros estão errados: tem nada a ver o tipo do report, data e emrpresa."
   ]
  },
  {
   "cell_type": "code",
   "execution_count": 10,
   "metadata": {},
   "outputs": [
    {
     "name": "stdout",
     "output_type": "stream",
     "text": [
      "Scrapping in page 1\n",
      "Scrapping in page 2\n",
      "Scrapping in page 3\n"
     ]
    }
   ],
   "source": [
    "# Extract registry data.\n",
    "df_main = pd.DataFrame()\n",
    "\n",
    "# Estimate the amount of pages found.\n",
    "n_pages = len(driver.find_elements(By.CSS_SELECTOR, '.paginate_button')) - 2\n",
    "\n",
    "for i in range(n_pages):\n",
    "    print(f'Scrapping in page {i + 1}')\n",
    "\n",
    "    # Step 1: get name, report type and year.\n",
    "    registry_elements = driver.find_elements(By.CSS_SELECTOR, \"tr[role = 'row'] > td\")\n",
    "    \n",
    "    # Organizing name, report type and year in lists.\n",
    "    list_name = []\n",
    "    list_type = []\n",
    "    list_year = []\n",
    "    list_publ = []\n",
    "    for idx, val in enumerate(registry_elements):\n",
    "        if idx in list_id_name:\n",
    "            list_name.append(val.text)\n",
    "            \n",
    "        if idx in list_id_type:\n",
    "            list_type.append(val.text)\n",
    "\n",
    "        if idx in list_id_year:\n",
    "            list_year.append(val.text)\n",
    "\n",
    "        if idx in list_id_publ:\n",
    "            list_publ.append(val.text)\n",
    "\n",
    "    # Step 2: get report's url available in current page.\n",
    "    url_elements = driver.find_elements(By.ID, 'VisualizarDocumento')\n",
    "\n",
    "    # Step 3: clean the url string.\n",
    "    list_url = []\n",
    "    for k in url_elements:\n",
    "        url = k.get_attribute('onclick')\n",
    "        url = url[url.find(\"'\") + 1: -2]\n",
    "        clean_url = f\"https://www.rad.cvm.gov.br/ENET/{url}\"\n",
    "        list_url.append(clean_url)\n",
    "    \n",
    "    # Step 4: organize all data in dataframe.\n",
    "    df = pd.DataFrame({\n",
    "        'company': list_name,\n",
    "        'report_type': list_type,\n",
    "        'year': list_year,\n",
    "        'publication_date': list_publ,\n",
    "        'url': list_url\n",
    "        })\n",
    "    df_main = pd.concat([df_main, df], axis=0, ignore_index=True)\n",
    "\n",
    "    # Last step: click on next page\n",
    "    driver.find_element(By.CSS_SELECTOR, '#grdDocumentos_next').click()"
   ]
  },
  {
   "cell_type": "code",
   "execution_count": null,
   "metadata": {},
   "outputs": [],
   "source": [
    "# Establish the folder './temp' as the new destionation for downloads.\n",
    "folder_path = os.getcwd() + '\\\\temp'\n",
    "try:\n",
    "    os.mkdir(folder_path)\n",
    "else:\n",
    "    print('Using the current folder /temp as destination for the downloaded files.')\n",
    "\n",
    "chrome_options = webdriver.ChromeOptions()\n",
    "chrome_options.add_experimental_option(\"prefs\", {\n",
    "    \"download.default_directory\": folder_path\n",
    "})\n",
    "\n",
    "# New column 'file' containing (1) filename or (2) a message with error. \n",
    "df_main['file'] = None\n",
    "for index, row in df_main.head(1).iterrows():\n",
    "\n",
    "    # Folder before the download.\n",
    "    list_file_before = os.listdir(folder_path)\n",
    "\n",
    "    single_driver = webdriver.Chrome(options=chrome_options)\n",
    "    single_driver.get(row['url'])\n",
    "\n",
    "    # Press the button 'Salvar em PDF'.\n",
    "    wait = WebDriverWait(single_driver, timeout=5)\n",
    "    wait.until(expected_conditions.element_to_be_clickable((By.ID, \"btnGeraRelatorioPDF\"))).click()\n",
    "    \n",
    "    # Before advancing, it is necessary to make a few adjustments due to iframe particularities.\n",
    "    iframe = single_driver.find_element(By.CSS_SELECTOR, '#iFrameModal')\n",
    "    single_driver.switch_to.frame(iframe)\n",
    "\n",
    "    # It is now clear why, but the website do not C lique no botão 'Gerar PDF'\n",
    "    sleep(5)\n",
    "    single_driver.find_elements(By.TAG_NAME, 'button').click()\n",
    "    #wait = WebDriverWait(single_driver, timeout=5)\n",
    "    #wait.until(expected_conditions.element_to_be_clickable((By.TAG_NAME, 'button'))).click()\n",
    "\n",
    "    #sleep(30)\n",
    "    sleep(5)\n",
    "    timer = 0\n",
    "    in_progress = True\n",
    "\n",
    "    while in_progress:\n",
    "        \n",
    "        sleep(1)\n",
    "        timer += 1\n",
    "        list_file_after = os.listdir(folder_path)\n",
    "\n",
    "        if len(list_file_after) > len(list_file_before):\n",
    "            file = set(list_file_after) - set(list_file_before)\n",
    "            file = list(file)[0]\n",
    "\n",
    "            df_main.at[index, 'file'] = file \n",
    "            in_progress = False\n",
    "\n",
    "        if timer == 60:\n",
    "            df_main.at[index, 'file'] = 'timeout_error'\n",
    "            in_progress = False\n",
    "    \n",
    "    single_driver.quit()"
   ]
  }
 ],
 "metadata": {
  "kernelspec": {
   "display_name": "Python 3",
   "language": "python",
   "name": "python3"
  },
  "language_info": {
   "codemirror_mode": {
    "name": "ipython",
    "version": 3
   },
   "file_extension": ".py",
   "mimetype": "text/x-python",
   "name": "python",
   "nbconvert_exporter": "python",
   "pygments_lexer": "ipython3",
   "version": "3.10.4"
  },
  "orig_nbformat": 4
 },
 "nbformat": 4,
 "nbformat_minor": 2
}
